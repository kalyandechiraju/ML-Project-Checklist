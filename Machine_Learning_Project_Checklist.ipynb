{
  "nbformat": 4,
  "nbformat_minor": 0,
  "metadata": {
    "colab": {
      "name": "Machine Learning Project Checklist.ipynb",
      "version": "0.3.2",
      "provenance": [],
      "collapsed_sections": [],
      "include_colab_link": true
    },
    "kernelspec": {
      "name": "python3",
      "display_name": "Python 3"
    }
  },
  "cells": [
    {
      "cell_type": "markdown",
      "metadata": {
        "id": "view-in-github",
        "colab_type": "text"
      },
      "source": [
        "<a href=\"https://colab.research.google.com/github/kalyandechiraju/ML-Project-Checklist/blob/master/Machine_Learning_Project_Checklist.ipynb\" target=\"_parent\"><img src=\"https://colab.research.google.com/assets/colab-badge.svg\" alt=\"Open In Colab\"/></a>"
      ]
    },
    {
      "cell_type": "markdown",
      "metadata": {
        "id": "-bCIvs4v2oCg",
        "colab_type": "text"
      },
      "source": [
        "# Machine Learning Project Checklist\n",
        "\n",
        "This checklist can guide you through your Machine Learning projects. There are eight main steps:\n",
        "\n",
        "1. Frame the problem and look at the big picture.\n",
        "2. Get the data.\n",
        "3. Explore the data to gain insights.\n",
        "4. Prepare the data to better expose the underlying data patterns to Machine Learning algorithms.\n",
        "5. Explore many different models and short-list the best ones.\n",
        "6. Fine-tune your models and combine them into the best ones.\n",
        "7. Present your solution.\n",
        "8. Launch, monitor and maintain your system."
      ]
    },
    {
      "cell_type": "markdown",
      "metadata": {
        "id": "FvrWiHDC4MQi",
        "colab_type": "text"
      },
      "source": [
        "### Frame the problem and Look at the Big Picture\n",
        "\n",
        "1. Define the objective in business terms.\n",
        "2. How will your solution be used?\n",
        "3. What are the current solutions/workarounds (if any)?\n",
        "4. How should you frame this problem (supervised/unsupervised, online/offline, etc.)?\n",
        "5. How should performance be measured?\n",
        "6. Is the performance measure aligned with the business objective?\n",
        "7. What would be the minimum performance needed to reach the business objective?\n",
        "8. What are comparable problems? Can you reuse experience or tools?\n",
        "9. Is human expertise available?\n",
        "10. How would you solve the problem manually?\n",
        "11. List the assumptions you (or others) have mane so far.\n",
        "12. Verify the assumptions if possible."
      ]
    },
    {
      "cell_type": "markdown",
      "metadata": {
        "id": "iHXCTNrG5Q1s",
        "colab_type": "text"
      },
      "source": [
        "### Get the Data\n",
        "**Note: Automate as much as possible so you can easily get fresh data.**\n",
        "\n",
        "1. List the data you need and how much you need.\n",
        "2. Find and document where you can get the data.\n",
        "3. Check how much space it will take.\n",
        "4. Check legal obligations, and get authorization if necessary.\n",
        "5. Get access authorizations.\n",
        "6. Create a workspace (with enough storage space).\n",
        "7. Get the data.\n",
        "8. Convert the data to a format you can easily manipulate (without changing the data itself).\n",
        "9. Ensure sensitive information is deleted and protected (e.g., anonymized).\n",
        "10. Check the size and type of data (time series, sample, geographical, etc.).\n",
        "11. Sample a test set, pull it aside and never look at it (no data snooping!)."
      ]
    },
    {
      "cell_type": "markdown",
      "metadata": {
        "id": "Lrl1TAT7spRb",
        "colab_type": "text"
      },
      "source": [
        "### Explore the Data\n",
        "\n",
        "**Note: Try to get insights from a field expert for these steps.**\n",
        "\n",
        "1. Create a copy of the data for exploration (sampling it down to a manageable size if necessary).\n",
        "2. Create a jupyter notebook to keep a record of your data exploration.\n",
        "3. Study each attribute and its characteristics:\n",
        "    - Name\n",
        "    - Type (categorical, int/float, bounded/unbounded, text, structured, etc.)\n",
        "    - % of missing values\n",
        "    - Noisiness and type of noise (stochastic, outliers, rounding errors, etc.)\n",
        "    - Possibly useful for the task?\n",
        "    - Type of distribution (Gaussian, uniform, logarithmic, etc.)\n",
        "4. For supervised learning tasks, identify the target attribute(s).\n",
        "5. Visualize the data.\n",
        "6. Study the correlations between attributes.\n",
        "7. Study how you would solve the problem manually.\n",
        "9. Identify the promising transformations you may want to apply.\n",
        "10. Document what you have learned."
      ]
    },
    {
      "cell_type": "markdown",
      "metadata": {
        "id": "OnENZecv6kRM",
        "colab_type": "text"
      },
      "source": [
        "### Prepare the Data\n",
        "\n",
        "Notes:\n",
        "\n",
        "- Work on copies of the data (keep the original dataset intact).\n",
        "- Write functions for all the data transformations you apply, for five reasons:\n",
        "  * So you can easily prepare the data the next time you get a fresh dataset\n",
        "  * So you can apply these transformations in future projects\n",
        "  * To clean and prepare the test set\n",
        "  * To clean and prepare new data instances once your solution is live\n",
        "  * To make it easy to treat your preparation choices as hyperparameters\n",
        "  \n",
        "\n",
        "1. Data Cleaning:\n",
        "  * Fix or remove outliers (optional).\n",
        "  * Fill in missing values (e.g., with zero, mean, median...) or drop their rows (or columns)\n",
        "2. Feature selection (optional):\n",
        "  * Drop the attributes that provide no useful information for the task.\n",
        "3. Feature engineering, where appropriate:\n",
        "  * Discretize continuous features.\n",
        "  * Decompose features (e.g., categorical, date/time, etc.).\n",
        "  * Add promising transformations of features (e.g., log(x), sqrt(x), x^2, etc.).\n",
        "  * Aggregate features into promising new features.\n",
        "4. Feature scaling: standardize or normalize features."
      ]
    },
    {
      "cell_type": "markdown",
      "metadata": {
        "id": "1l7pqyiEjxWn",
        "colab_type": "text"
      },
      "source": [
        "### Short-List Promising Models\n",
        "\n",
        "Notes:\n",
        "  * If the data is huge, you may want to sample smaller training sets so you can train many different models in a reasonable time (be aware that this penalizes complex models such as large neural nets or Random Forests).\n",
        "  * Once again, try to automate these steps as much as possible.\n",
        "  \n",
        "\n",
        "1. Train many quick and dirty models from different categories (e.g., linear, naive bayes, SVM, Random Forests, neural net, etc.) using standard parameters.\n",
        "2. Measure and compare their performance.\n",
        "  * For each model, use N-fold cross-validation and compute the mean and standard deviation of the performance measure on the N folds.\n",
        "3. Analyze the most significant variables for each algorithm.\n",
        "4. Analyze the types of errors the models make.\n",
        "  * What data would a human have used to avoid these errors?\n",
        "5. Have a quick round of feature selection and engineering.\n",
        "6. Have one or two more quick iterations of the five previous steps.\n",
        "7. Short-list the top three to five most promising models, preferring models that make different types of errors."
      ]
    },
    {
      "cell_type": "markdown",
      "metadata": {
        "id": "EDpiC4kf3uU8",
        "colab_type": "text"
      },
      "source": [
        "### Fine-Tune the system\n",
        "\n",
        "Notes:\n",
        "  * You will want to use as much data as possible for this step, especially as you move toward the end of fine-tuning.\n",
        "  * As always automate what you can.\n",
        "  \n",
        "1. Fine-tune the hyperparameters using cross-validation.\n",
        "  * Treat your data transformation choices as hyperparameters, especially when you are not sure about them (e.g., Should I replace missing values with zero or with median value? Or just drop the rows?).\n",
        "  * Unless there are very few hyperparameter values to explore, prefer random search over grid search. If training is very long, you may prefer a Bayesian optimization approach (e.g., using gaussian process priors, as described by Jasper Snoek, Hugo Larochelle and Ryan Adams (https://goo.gl/PEFfGr)).\n",
        "2. Try Ensemble methods. Combining your best models will often perform better than running them individually.\n",
        "3. Once you are confident about your final model, measure its performance on the test set to estimate the generalization error.\n",
        "\n",
        "**Note: Dont tweak your model after measuring the generalization error: you would just start overfitting the test set.**"
      ]
    },
    {
      "cell_type": "markdown",
      "metadata": {
        "id": "ok-A_WKU6kbE",
        "colab_type": "text"
      },
      "source": [
        ""
      ]
    }
  ]
}